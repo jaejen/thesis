{
 "cells": [
  {
   "cell_type": "code",
   "execution_count": 1,
   "metadata": {},
   "outputs": [],
   "source": [
    "import csv\n",
    "import sys\n",
    "import numpy\n",
    "import json\n",
    "import os\n",
    "import pprint"
   ]
  },
  {
   "cell_type": "code",
   "execution_count": 9,
   "metadata": {},
   "outputs": [],
   "source": [
    "import random"
   ]
  },
  {
   "cell_type": "code",
   "execution_count": 6,
   "metadata": {},
   "outputs": [
    {
     "name": "stdout",
     "output_type": "stream",
     "text": [
      "CPU times: user 1min 43s, sys: 4min 26s, total: 6min 10s\n",
      "Wall time: 16min 6s\n"
     ]
    }
   ],
   "source": [
    "%%time\n",
    "with open(\"10_31_1.json\") as data:\n",
    "    str1 = json.load(data)"
   ]
  },
  {
   "cell_type": "code",
   "execution_count": 7,
   "metadata": {},
   "outputs": [
    {
     "name": "stdout",
     "output_type": "stream",
     "text": [
      "CPU times: user 1min 42s, sys: 4min 24s, total: 6min 7s\n",
      "Wall time: 16min 24s\n"
     ]
    }
   ],
   "source": [
    "%%time\n",
    "with open(\"10_31_2.json\") as data:\n",
    "    str2 = json.load(data)"
   ]
  },
  {
   "cell_type": "code",
   "execution_count": 10,
   "metadata": {},
   "outputs": [],
   "source": [
    "temp_d = json.loads(str1 + str2)\n",
    "temp_d_sampled = random.sample(temp_d, 30000)"
   ]
  },
  {
   "cell_type": "code",
   "execution_count": 11,
   "metadata": {
    "collapsed": true
   },
   "outputs": [
    {
     "name": "stdout",
     "output_type": "stream",
     "text": [
      "{'created_at': 'Mon Oct 31 06:21:18 +0000 2016', 'id': 792974712473169920, 'id_str': '792974712473169920', 'text': 'RT @YoungDems4Trump: #CrookedHillary and Obama created the Syrian conflict, profited from the Clinton Foundation &amp; ignored ISIS. https://t.…', 'source': '<a href=\"http://twitter.com\" rel=\"nofollow\">Twitter Web Client</a>', 'truncated': False, 'in_reply_to_status_id': None, 'in_reply_to_status_id_str': None, 'in_reply_to_user_id': None, 'in_reply_to_user_id_str': None, 'in_reply_to_screen_name': None, 'user': {'id': 44054236, 'id_str': '44054236', 'name': 'Dr. James A. WhiteII', 'screen_name': 'wordoffire', 'location': 'Kansas', 'url': None, 'description': 'Dr. White is a skilled preacher of the gospel that loves to learn and explore new things.Dr. White stands for truth and love of God in all things.', 'protected': False, 'verified': False, 'followers_count': 3159, 'friends_count': 3378, 'listed_count': 47, 'favourites_count': 1404, 'statuses_count': 24683, 'created_at': 'Tue Jun 02 04:03:46 +0000 2009', 'utc_offset': -18000, 'time_zone': 'Central Time (US & Canada)', 'geo_enabled': True, 'lang': 'en', 'contributors_enabled': False, 'is_translator': False, 'profile_background_color': 'C0DEED', 'profile_background_image_url': 'http://abs.twimg.com/images/themes/theme1/bg.png', 'profile_background_image_url_https': 'https://abs.twimg.com/images/themes/theme1/bg.png', 'profile_background_tile': False, 'profile_link_color': '0084B4', 'profile_sidebar_border_color': 'C0DEED', 'profile_sidebar_fill_color': 'DDEEF6', 'profile_text_color': '333333', 'profile_use_background_image': True, 'profile_image_url': 'http://pbs.twimg.com/profile_images/753454899799568384/PMnHEnkm_normal.jpg', 'profile_image_url_https': 'https://pbs.twimg.com/profile_images/753454899799568384/PMnHEnkm_normal.jpg', 'default_profile': True, 'default_profile_image': False, 'following': None, 'follow_request_sent': None, 'notifications': None}, 'geo': None, 'coordinates': None, 'place': None, 'contributors': None, 'retweeted_status': {'created_at': 'Mon Oct 31 03:38:49 +0000 2016', 'id': 792933818751590400, 'id_str': '792933818751590400', 'text': '#CrookedHillary and Obama created the Syrian conflict, profited from the Clinton Foundation &amp; ignored ISIS. https://t.co/ubsE5h1Y48', 'display_text_range': [0, 111], 'source': '<a href=\"http://twitter.com/download/iphone\" rel=\"nofollow\">Twitter for iPhone</a>', 'truncated': False, 'in_reply_to_status_id': None, 'in_reply_to_status_id_str': None, 'in_reply_to_user_id': None, 'in_reply_to_user_id_str': None, 'in_reply_to_screen_name': None, 'user': {'id': 3498448812, 'id_str': '3498448812', 'name': 'Democrats for Trump', 'screen_name': 'YoungDems4Trump', 'location': '#YoungDemocratsForTrump', 'url': None, 'description': \"I'm a patriot; I love my country. That's why I am voting #Trump2016. Hillary Clinton is a Corporatist, Warmongering, Lying, Sociopath and cannot be President.\", 'protected': False, 'verified': False, 'followers_count': 48281, 'friends_count': 10541, 'listed_count': 260, 'favourites_count': 5873, 'statuses_count': 2852, 'created_at': 'Wed Sep 09 00:24:06 +0000 2015', 'utc_offset': None, 'time_zone': None, 'geo_enabled': True, 'lang': 'en', 'contributors_enabled': False, 'is_translator': False, 'profile_background_color': '000000', 'profile_background_image_url': 'http://abs.twimg.com/images/themes/theme1/bg.png', 'profile_background_image_url_https': 'https://abs.twimg.com/images/themes/theme1/bg.png', 'profile_background_tile': False, 'profile_link_color': 'DAA520', 'profile_sidebar_border_color': '000000', 'profile_sidebar_fill_color': '000000', 'profile_text_color': '000000', 'profile_use_background_image': False, 'profile_image_url': 'http://pbs.twimg.com/profile_images/792094366453997568/JKUvHmjP_normal.jpg', 'profile_image_url_https': 'https://pbs.twimg.com/profile_images/792094366453997568/JKUvHmjP_normal.jpg', 'profile_banner_url': 'https://pbs.twimg.com/profile_banners/3498448812/1475493949', 'default_profile': False, 'default_profile_image': False, 'following': None, 'follow_request_sent': None, 'notifications': None}, 'geo': None, 'coordinates': None, 'place': None, 'contributors': None, 'is_quote_status': False, 'retweet_count': 347, 'favorite_count': 337, 'entities': {'hashtags': [{'text': 'CrookedHillary', 'indices': [0, 15]}], 'urls': [], 'user_mentions': [], 'symbols': [], 'media': [{'id': 792933811382128640, 'id_str': '792933811382128640', 'indices': [112, 135], 'media_url': 'http://pbs.twimg.com/media/CwERGa3UEAAEr5H.jpg', 'media_url_https': 'https://pbs.twimg.com/media/CwERGa3UEAAEr5H.jpg', 'url': 'https://t.co/ubsE5h1Y48', 'display_url': 'pic.twitter.com/ubsE5h1Y48', 'expanded_url': 'https://twitter.com/YoungDems4Trump/status/792933818751590400/photo/1', 'type': 'photo', 'sizes': {'large': {'w': 1444, 'h': 1929, 'resize': 'fit'}, 'thumb': {'w': 150, 'h': 150, 'resize': 'crop'}, 'medium': {'w': 898, 'h': 1200, 'resize': 'fit'}, 'small': {'w': 509, 'h': 680, 'resize': 'fit'}}}]}, 'extended_entities': {'media': [{'id': 792933811382128640, 'id_str': '792933811382128640', 'indices': [112, 135], 'media_url': 'http://pbs.twimg.com/media/CwERGa3UEAAEr5H.jpg', 'media_url_https': 'https://pbs.twimg.com/media/CwERGa3UEAAEr5H.jpg', 'url': 'https://t.co/ubsE5h1Y48', 'display_url': 'pic.twitter.com/ubsE5h1Y48', 'expanded_url': 'https://twitter.com/YoungDems4Trump/status/792933818751590400/photo/1', 'type': 'photo', 'sizes': {'large': {'w': 1444, 'h': 1929, 'resize': 'fit'}, 'thumb': {'w': 150, 'h': 150, 'resize': 'crop'}, 'medium': {'w': 898, 'h': 1200, 'resize': 'fit'}, 'small': {'w': 509, 'h': 680, 'resize': 'fit'}}}]}, 'favorited': False, 'retweeted': False, 'possibly_sensitive': False, 'filter_level': 'low', 'lang': 'en'}, 'is_quote_status': False, 'retweet_count': 0, 'favorite_count': 0, 'entities': {'hashtags': [{'text': 'CrookedHillary', 'indices': [21, 36]}], 'urls': [], 'user_mentions': [{'screen_name': 'YoungDems4Trump', 'name': 'Democrats for Trump', 'id': 3498448812, 'id_str': '3498448812', 'indices': [3, 19]}], 'symbols': []}, 'favorited': False, 'retweeted': False, 'filter_level': 'low', 'lang': 'en', 'timestamp_ms': '1477894878868'}\n"
     ]
    }
   ],
   "source": [
    "print(temp_d_sampled[0])"
   ]
  },
  {
   "cell_type": "code",
   "execution_count": 16,
   "metadata": {},
   "outputs": [],
   "source": [
    "newfile1 = \"sampled10_31_1r.json\"\n",
    "newfile2 = \"sampled10_31_2r.json\"\n",
    "\n",
    "with open(os.path.join(os.getcwd(), newfile1), 'w') as data:\n",
    "    json.dump(temp_d_sampled[:15000], data)\n",
    "with open(os.path.join(os.getcwd(), newfile2), 'w') as data:\n",
    "    json.dump(temp_d_sampled[15000:], data)"
   ]
  },
  {
   "cell_type": "code",
   "execution_count": 2,
   "metadata": {},
   "outputs": [],
   "source": [
    "def rejoin(file1, file2):\n",
    "    with open(file1 + \".json\") as data:\n",
    "        str1 = json.load(data)\n",
    "    with open(file2 + \".json\") as data:\n",
    "        str2 = json.load(data)\n",
    "        \n",
    "    temp_d = json.loads(str1 + str2)\n",
    "    temp_d_sampled = random.sample(temp_d, 30000)\n",
    "    \n",
    "    newfile1 = \"rejoined_\" + file1 + \".json\"\n",
    "    newfile2 = \"rejoined_\" + file2 + \".json\"\n",
    "    \n",
    "    with open(os.path.join(os.getcwd(), newfile1), 'w') as data:\n",
    "        json.dump(temp_d[:15000], data)\n",
    "    with open(os.path.join(os.getcwd(), newfile2), 'w') as data:\n",
    "        json.dump(temp_d[15000:], data)"
   ]
  },
  {
   "cell_type": "code",
   "execution_count": 3,
   "metadata": {},
   "outputs": [],
   "source": [
    "with open(os.path.join(os.getcwd(), \"./raw/10_23_1.json\")) as data:\n",
    "    file = json.load(data)"
   ]
  },
  {
   "cell_type": "code",
   "execution_count": 5,
   "metadata": {},
   "outputs": [],
   "source": [
    "with open(os.path.join(os.getcwd(), \"./raw/10_23_2.json\")) as data:\n",
    "    file2 = json.load(data)"
   ]
  },
  {
   "cell_type": "code",
   "execution_count": 7,
   "metadata": {},
   "outputs": [],
   "source": [
    "temp_d = json.loads(file + file2)"
   ]
  },
  {
   "cell_type": "code",
   "execution_count": 8,
   "metadata": {
    "collapsed": true
   },
   "outputs": [
    {
     "data": {
      "text/plain": [
       "{'created_at': 'Sun Oct 23 04:00:02 +0000 2016',\n",
       " 'id': 790040055192645632,\n",
       " 'id_str': '790040055192645632',\n",
       " 'text': \"@realDonaldTrump Interesting watch - let's hope his models hold true! #MAGA #CleanHouse #DrainTheSwamp… https://t.co/CLYke1JUoD\",\n",
       " 'display_text_range': [0, 140],\n",
       " 'source': '<a href=\"http://twitter.com\" rel=\"nofollow\">Twitter Web Client</a>',\n",
       " 'truncated': True,\n",
       " 'in_reply_to_status_id': None,\n",
       " 'in_reply_to_status_id_str': None,\n",
       " 'in_reply_to_user_id': 25073877,\n",
       " 'in_reply_to_user_id_str': '25073877',\n",
       " 'in_reply_to_screen_name': 'realDonaldTrump',\n",
       " 'user': {'id': 36950606,\n",
       "  'id_str': '36950606',\n",
       "  'name': 'Chrissie',\n",
       "  'screen_name': 'Bkakma',\n",
       "  'location': 'Bergen County, NJ',\n",
       "  'url': None,\n",
       "  'description': 'Mother at Large #UAlbany #ParamusCatholic',\n",
       "  'protected': False,\n",
       "  'verified': False,\n",
       "  'followers_count': 60,\n",
       "  'friends_count': 87,\n",
       "  'listed_count': 2,\n",
       "  'favourites_count': 1987,\n",
       "  'statuses_count': 1612,\n",
       "  'created_at': 'Fri May 01 14:15:38 +0000 2009',\n",
       "  'utc_offset': -14400,\n",
       "  'time_zone': 'America/Detroit',\n",
       "  'geo_enabled': False,\n",
       "  'lang': 'en',\n",
       "  'contributors_enabled': False,\n",
       "  'is_translator': False,\n",
       "  'profile_background_color': '642D8B',\n",
       "  'profile_background_image_url': 'http://abs.twimg.com/images/themes/theme10/bg.gif',\n",
       "  'profile_background_image_url_https': 'https://abs.twimg.com/images/themes/theme10/bg.gif',\n",
       "  'profile_background_tile': True,\n",
       "  'profile_link_color': 'FF0000',\n",
       "  'profile_sidebar_border_color': '65B0DA',\n",
       "  'profile_sidebar_fill_color': '7AC3EE',\n",
       "  'profile_text_color': '3D1957',\n",
       "  'profile_use_background_image': True,\n",
       "  'profile_image_url': 'http://pbs.twimg.com/profile_images/785974968744108033/mZK0SRrj_normal.jpg',\n",
       "  'profile_image_url_https': 'https://pbs.twimg.com/profile_images/785974968744108033/mZK0SRrj_normal.jpg',\n",
       "  'profile_banner_url': 'https://pbs.twimg.com/profile_banners/36950606/1476225927',\n",
       "  'default_profile': False,\n",
       "  'default_profile_image': False,\n",
       "  'following': None,\n",
       "  'follow_request_sent': None,\n",
       "  'notifications': None},\n",
       " 'geo': None,\n",
       " 'coordinates': None,\n",
       " 'place': None,\n",
       " 'contributors': None,\n",
       " 'quoted_status_id': 789940903498481664,\n",
       " 'quoted_status_id_str': '789940903498481664',\n",
       " 'quoted_status': {'created_at': 'Sat Oct 22 21:26:02 +0000 2016',\n",
       "  'id': 789940903498481664,\n",
       "  'id_str': '789940903498481664',\n",
       "  'text': 'Professor with Remarkable Track Record Predicts a Trump Election Win https://t.co/5MdOVHX03G https://t.co/7phfpdjcn4',\n",
       "  'display_text_range': [0, 92],\n",
       "  'source': '<a href=\"https://studio.twitter.com\" rel=\"nofollow\">Media Studio</a>',\n",
       "  'truncated': False,\n",
       "  'in_reply_to_status_id': None,\n",
       "  'in_reply_to_status_id_str': None,\n",
       "  'in_reply_to_user_id': None,\n",
       "  'in_reply_to_user_id_str': None,\n",
       "  'in_reply_to_screen_name': None,\n",
       "  'user': {'id': 1367531,\n",
       "   'id_str': '1367531',\n",
       "   'name': 'Fox News',\n",
       "   'screen_name': 'FoxNews',\n",
       "   'location': 'U.S.A.',\n",
       "   'url': 'http://www.foxnews.com',\n",
       "   'description': \"America’s Strongest Primetime Lineup Anywhere! Follow America's #1 cable news network, delivering you breaking news, insightful analysis, and must-see videos.\",\n",
       "   'protected': False,\n",
       "   'verified': True,\n",
       "   'followers_count': 11265409,\n",
       "   'friends_count': 406,\n",
       "   'listed_count': 53943,\n",
       "   'favourites_count': 0,\n",
       "   'statuses_count': 275249,\n",
       "   'created_at': 'Sat Mar 17 19:01:26 +0000 2007',\n",
       "   'utc_offset': -14400,\n",
       "   'time_zone': 'Eastern Time (US & Canada)',\n",
       "   'geo_enabled': False,\n",
       "   'lang': 'en',\n",
       "   'contributors_enabled': False,\n",
       "   'is_translator': False,\n",
       "   'profile_background_color': '0E2331',\n",
       "   'profile_background_image_url': 'http://pbs.twimg.com/profile_background_images/414488415/xyz123abc.jpg',\n",
       "   'profile_background_image_url_https': 'https://pbs.twimg.com/profile_background_images/414488415/xyz123abc.jpg',\n",
       "   'profile_background_tile': False,\n",
       "   'profile_link_color': '183A52',\n",
       "   'profile_sidebar_border_color': 'FFFFFF',\n",
       "   'profile_sidebar_fill_color': 'F4F4F4',\n",
       "   'profile_text_color': '000000',\n",
       "   'profile_use_background_image': True,\n",
       "   'profile_image_url': 'http://pbs.twimg.com/profile_images/784433983752855553/EDPMR94b_normal.jpg',\n",
       "   'profile_image_url_https': 'https://pbs.twimg.com/profile_images/784433983752855553/EDPMR94b_normal.jpg',\n",
       "   'profile_banner_url': 'https://pbs.twimg.com/profile_banners/1367531/1473442061',\n",
       "   'default_profile': False,\n",
       "   'default_profile_image': False,\n",
       "   'following': None,\n",
       "   'follow_request_sent': None,\n",
       "   'notifications': None},\n",
       "  'geo': None,\n",
       "  'coordinates': None,\n",
       "  'place': None,\n",
       "  'contributors': None,\n",
       "  'is_quote_status': False,\n",
       "  'retweet_count': 715,\n",
       "  'favorite_count': 1206,\n",
       "  'entities': {'hashtags': [],\n",
       "   'urls': [{'url': 'https://t.co/5MdOVHX03G',\n",
       "     'expanded_url': 'http://bit.ly/2eF0bO7',\n",
       "     'display_url': 'bit.ly/2eF0bO7',\n",
       "     'indices': [69, 92]}],\n",
       "   'user_mentions': [],\n",
       "   'symbols': [],\n",
       "   'media': [{'id': 789901945473425408,\n",
       "     'id_str': '789901945473425408',\n",
       "     'indices': [93, 116],\n",
       "     'media_url': 'http://pbs.twimg.com/media/CvZL1LGUsAAtMFW.jpg',\n",
       "     'media_url_https': 'https://pbs.twimg.com/media/CvZL1LGUsAAtMFW.jpg',\n",
       "     'url': 'https://t.co/7phfpdjcn4',\n",
       "     'display_url': 'pic.twitter.com/7phfpdjcn4',\n",
       "     'expanded_url': 'https://twitter.com/FoxNews/status/789940903498481664/video/1',\n",
       "     'type': 'photo',\n",
       "     'sizes': {'small': {'w': 680, 'h': 383, 'resize': 'fit'},\n",
       "      'medium': {'w': 1200, 'h': 675, 'resize': 'fit'},\n",
       "      'large': {'w': 1280, 'h': 720, 'resize': 'fit'},\n",
       "      'thumb': {'w': 150, 'h': 150, 'resize': 'crop'}}}]},\n",
       "  'extended_entities': {'media': [{'id': 789901945473425408,\n",
       "     'id_str': '789901945473425408',\n",
       "     'indices': [93, 116],\n",
       "     'media_url': 'http://pbs.twimg.com/media/CvZL1LGUsAAtMFW.jpg',\n",
       "     'media_url_https': 'https://pbs.twimg.com/media/CvZL1LGUsAAtMFW.jpg',\n",
       "     'url': 'https://t.co/7phfpdjcn4',\n",
       "     'display_url': 'pic.twitter.com/7phfpdjcn4',\n",
       "     'expanded_url': 'https://twitter.com/FoxNews/status/789940903498481664/video/1',\n",
       "     'type': 'video',\n",
       "     'sizes': {'small': {'w': 680, 'h': 383, 'resize': 'fit'},\n",
       "      'medium': {'w': 1200, 'h': 675, 'resize': 'fit'},\n",
       "      'large': {'w': 1280, 'h': 720, 'resize': 'fit'},\n",
       "      'thumb': {'w': 150, 'h': 150, 'resize': 'crop'}},\n",
       "     'video_info': {'aspect_ratio': [16, 9],\n",
       "      'duration_millis': 139940,\n",
       "      'variants': [{'bitrate': 832000,\n",
       "        'content_type': 'video/mp4',\n",
       "        'url': 'https://video.twimg.com/amplify_video/789901945473425408/vid/640x360/dlmA_xwnc3L9ZUUC.mp4'},\n",
       "       {'content_type': 'application/x-mpegURL',\n",
       "        'url': 'https://video.twimg.com/amplify_video/789901945473425408/pl/Pb92uNpIMli0XveJ.m3u8'},\n",
       "       {'bitrate': 320000,\n",
       "        'content_type': 'video/mp4',\n",
       "        'url': 'https://video.twimg.com/amplify_video/789901945473425408/vid/320x180/PDCjclT1MccstLBr.mp4'},\n",
       "       {'content_type': 'application/dash+xml',\n",
       "        'url': 'https://video.twimg.com/amplify_video/789901945473425408/pl/Pb92uNpIMli0XveJ.mpd'},\n",
       "       {'bitrate': 2176000,\n",
       "        'content_type': 'video/mp4',\n",
       "        'url': 'https://video.twimg.com/amplify_video/789901945473425408/vid/1280x720/bBOtPjvg9aRgPGGY.mp4'}]}}]},\n",
       "  'favorited': False,\n",
       "  'retweeted': False,\n",
       "  'possibly_sensitive': False,\n",
       "  'filter_level': 'low',\n",
       "  'lang': 'en'},\n",
       " 'is_quote_status': True,\n",
       " 'extended_tweet': {'full_text': \"@realDonaldTrump Interesting watch - let's hope his models hold true! #MAGA #CleanHouse #DrainTheSwamp #WomenWhoVoteTrump https://t.co/Gk1cYvpkKQ\",\n",
       "  'display_text_range': [0, 121],\n",
       "  'entities': {'hashtags': [{'text': 'MAGA', 'indices': [70, 75]},\n",
       "    {'text': 'CleanHouse', 'indices': [76, 87]},\n",
       "    {'text': 'DrainTheSwamp', 'indices': [88, 102]},\n",
       "    {'text': 'WomenWhoVoteTrump', 'indices': [103, 121]}],\n",
       "   'urls': [{'url': 'https://t.co/Gk1cYvpkKQ',\n",
       "     'expanded_url': 'https://twitter.com/FoxNews/status/789940903498481664',\n",
       "     'display_url': 'twitter.com/FoxNews/status…',\n",
       "     'indices': [122, 145]}],\n",
       "   'user_mentions': [{'screen_name': 'realDonaldTrump',\n",
       "     'name': 'Donald J. Trump',\n",
       "     'id': 25073877,\n",
       "     'id_str': '25073877',\n",
       "     'indices': [0, 16]}],\n",
       "   'symbols': []}},\n",
       " 'retweet_count': 0,\n",
       " 'favorite_count': 0,\n",
       " 'entities': {'hashtags': [{'text': 'MAGA', 'indices': [70, 75]},\n",
       "   {'text': 'CleanHouse', 'indices': [76, 87]},\n",
       "   {'text': 'DrainTheSwamp', 'indices': [88, 102]}],\n",
       "  'urls': [{'url': 'https://t.co/CLYke1JUoD',\n",
       "    'expanded_url': 'https://twitter.com/i/web/status/790040055192645632',\n",
       "    'display_url': 'twitter.com/i/web/status/7…',\n",
       "    'indices': [104, 127]}],\n",
       "  'user_mentions': [{'screen_name': 'realDonaldTrump',\n",
       "    'name': 'Donald J. Trump',\n",
       "    'id': 25073877,\n",
       "    'id_str': '25073877',\n",
       "    'indices': [0, 16]}],\n",
       "  'symbols': []},\n",
       " 'favorited': False,\n",
       " 'retweeted': False,\n",
       " 'possibly_sensitive': False,\n",
       " 'filter_level': 'low',\n",
       " 'lang': 'en',\n",
       " 'timestamp_ms': '1477195202049'}"
      ]
     },
     "execution_count": 8,
     "metadata": {},
     "output_type": "execute_result"
    }
   ],
   "source": [
    "temp_d[0]"
   ]
  },
  {
   "cell_type": "code",
   "execution_count": 9,
   "metadata": {
    "scrolled": true
   },
   "outputs": [
    {
     "data": {
      "text/plain": [
       "705000"
      ]
     },
     "execution_count": 9,
     "metadata": {},
     "output_type": "execute_result"
    }
   ],
   "source": [
    "len(temp_d)"
   ]
  },
  {
   "cell_type": "code",
   "execution_count": 12,
   "metadata": {},
   "outputs": [],
   "source": [
    "length = int(len(temp_d)/2)"
   ]
  },
  {
   "cell_type": "code",
   "execution_count": 13,
   "metadata": {},
   "outputs": [
    {
     "data": {
      "text/plain": [
       "352500"
      ]
     },
     "execution_count": 13,
     "metadata": {},
     "output_type": "execute_result"
    }
   ],
   "source": [
    "length"
   ]
  },
  {
   "cell_type": "code",
   "execution_count": 15,
   "metadata": {},
   "outputs": [],
   "source": [
    "with open(os.path.join(os.getcwd(), \"10_23_1_rejoined.json\"), 'w') as data:\n",
    "    json.dump(temp_d[:length], data)"
   ]
  },
  {
   "cell_type": "code",
   "execution_count": 17,
   "metadata": {},
   "outputs": [],
   "source": [
    "with open(\"10_23_1_rejoined.json\") as data:\n",
    "    check = json.load(data)"
   ]
  },
  {
   "cell_type": "code",
   "execution_count": 18,
   "metadata": {
    "collapsed": true
   },
   "outputs": [
    {
     "name": "stdout",
     "output_type": "stream",
     "text": [
      "{'created_at': 'Sun Oct 23 04:00:02 +0000 2016', 'id': 790040055192645632, 'id_str': '790040055192645632', 'text': \"@realDonaldTrump Interesting watch - let's hope his models hold true! #MAGA #CleanHouse #DrainTheSwamp… https://t.co/CLYke1JUoD\", 'display_text_range': [0, 140], 'source': '<a href=\"http://twitter.com\" rel=\"nofollow\">Twitter Web Client</a>', 'truncated': True, 'in_reply_to_status_id': None, 'in_reply_to_status_id_str': None, 'in_reply_to_user_id': 25073877, 'in_reply_to_user_id_str': '25073877', 'in_reply_to_screen_name': 'realDonaldTrump', 'user': {'id': 36950606, 'id_str': '36950606', 'name': 'Chrissie', 'screen_name': 'Bkakma', 'location': 'Bergen County, NJ', 'url': None, 'description': 'Mother at Large #UAlbany #ParamusCatholic', 'protected': False, 'verified': False, 'followers_count': 60, 'friends_count': 87, 'listed_count': 2, 'favourites_count': 1987, 'statuses_count': 1612, 'created_at': 'Fri May 01 14:15:38 +0000 2009', 'utc_offset': -14400, 'time_zone': 'America/Detroit', 'geo_enabled': False, 'lang': 'en', 'contributors_enabled': False, 'is_translator': False, 'profile_background_color': '642D8B', 'profile_background_image_url': 'http://abs.twimg.com/images/themes/theme10/bg.gif', 'profile_background_image_url_https': 'https://abs.twimg.com/images/themes/theme10/bg.gif', 'profile_background_tile': True, 'profile_link_color': 'FF0000', 'profile_sidebar_border_color': '65B0DA', 'profile_sidebar_fill_color': '7AC3EE', 'profile_text_color': '3D1957', 'profile_use_background_image': True, 'profile_image_url': 'http://pbs.twimg.com/profile_images/785974968744108033/mZK0SRrj_normal.jpg', 'profile_image_url_https': 'https://pbs.twimg.com/profile_images/785974968744108033/mZK0SRrj_normal.jpg', 'profile_banner_url': 'https://pbs.twimg.com/profile_banners/36950606/1476225927', 'default_profile': False, 'default_profile_image': False, 'following': None, 'follow_request_sent': None, 'notifications': None}, 'geo': None, 'coordinates': None, 'place': None, 'contributors': None, 'quoted_status_id': 789940903498481664, 'quoted_status_id_str': '789940903498481664', 'quoted_status': {'created_at': 'Sat Oct 22 21:26:02 +0000 2016', 'id': 789940903498481664, 'id_str': '789940903498481664', 'text': 'Professor with Remarkable Track Record Predicts a Trump Election Win https://t.co/5MdOVHX03G https://t.co/7phfpdjcn4', 'display_text_range': [0, 92], 'source': '<a href=\"https://studio.twitter.com\" rel=\"nofollow\">Media Studio</a>', 'truncated': False, 'in_reply_to_status_id': None, 'in_reply_to_status_id_str': None, 'in_reply_to_user_id': None, 'in_reply_to_user_id_str': None, 'in_reply_to_screen_name': None, 'user': {'id': 1367531, 'id_str': '1367531', 'name': 'Fox News', 'screen_name': 'FoxNews', 'location': 'U.S.A.', 'url': 'http://www.foxnews.com', 'description': \"America’s Strongest Primetime Lineup Anywhere! Follow America's #1 cable news network, delivering you breaking news, insightful analysis, and must-see videos.\", 'protected': False, 'verified': True, 'followers_count': 11265409, 'friends_count': 406, 'listed_count': 53943, 'favourites_count': 0, 'statuses_count': 275249, 'created_at': 'Sat Mar 17 19:01:26 +0000 2007', 'utc_offset': -14400, 'time_zone': 'Eastern Time (US & Canada)', 'geo_enabled': False, 'lang': 'en', 'contributors_enabled': False, 'is_translator': False, 'profile_background_color': '0E2331', 'profile_background_image_url': 'http://pbs.twimg.com/profile_background_images/414488415/xyz123abc.jpg', 'profile_background_image_url_https': 'https://pbs.twimg.com/profile_background_images/414488415/xyz123abc.jpg', 'profile_background_tile': False, 'profile_link_color': '183A52', 'profile_sidebar_border_color': 'FFFFFF', 'profile_sidebar_fill_color': 'F4F4F4', 'profile_text_color': '000000', 'profile_use_background_image': True, 'profile_image_url': 'http://pbs.twimg.com/profile_images/784433983752855553/EDPMR94b_normal.jpg', 'profile_image_url_https': 'https://pbs.twimg.com/profile_images/784433983752855553/EDPMR94b_normal.jpg', 'profile_banner_url': 'https://pbs.twimg.com/profile_banners/1367531/1473442061', 'default_profile': False, 'default_profile_image': False, 'following': None, 'follow_request_sent': None, 'notifications': None}, 'geo': None, 'coordinates': None, 'place': None, 'contributors': None, 'is_quote_status': False, 'retweet_count': 715, 'favorite_count': 1206, 'entities': {'hashtags': [], 'urls': [{'url': 'https://t.co/5MdOVHX03G', 'expanded_url': 'http://bit.ly/2eF0bO7', 'display_url': 'bit.ly/2eF0bO7', 'indices': [69, 92]}], 'user_mentions': [], 'symbols': [], 'media': [{'id': 789901945473425408, 'id_str': '789901945473425408', 'indices': [93, 116], 'media_url': 'http://pbs.twimg.com/media/CvZL1LGUsAAtMFW.jpg', 'media_url_https': 'https://pbs.twimg.com/media/CvZL1LGUsAAtMFW.jpg', 'url': 'https://t.co/7phfpdjcn4', 'display_url': 'pic.twitter.com/7phfpdjcn4', 'expanded_url': 'https://twitter.com/FoxNews/status/789940903498481664/video/1', 'type': 'photo', 'sizes': {'small': {'w': 680, 'h': 383, 'resize': 'fit'}, 'medium': {'w': 1200, 'h': 675, 'resize': 'fit'}, 'large': {'w': 1280, 'h': 720, 'resize': 'fit'}, 'thumb': {'w': 150, 'h': 150, 'resize': 'crop'}}}]}, 'extended_entities': {'media': [{'id': 789901945473425408, 'id_str': '789901945473425408', 'indices': [93, 116], 'media_url': 'http://pbs.twimg.com/media/CvZL1LGUsAAtMFW.jpg', 'media_url_https': 'https://pbs.twimg.com/media/CvZL1LGUsAAtMFW.jpg', 'url': 'https://t.co/7phfpdjcn4', 'display_url': 'pic.twitter.com/7phfpdjcn4', 'expanded_url': 'https://twitter.com/FoxNews/status/789940903498481664/video/1', 'type': 'video', 'sizes': {'small': {'w': 680, 'h': 383, 'resize': 'fit'}, 'medium': {'w': 1200, 'h': 675, 'resize': 'fit'}, 'large': {'w': 1280, 'h': 720, 'resize': 'fit'}, 'thumb': {'w': 150, 'h': 150, 'resize': 'crop'}}, 'video_info': {'aspect_ratio': [16, 9], 'duration_millis': 139940, 'variants': [{'bitrate': 832000, 'content_type': 'video/mp4', 'url': 'https://video.twimg.com/amplify_video/789901945473425408/vid/640x360/dlmA_xwnc3L9ZUUC.mp4'}, {'content_type': 'application/x-mpegURL', 'url': 'https://video.twimg.com/amplify_video/789901945473425408/pl/Pb92uNpIMli0XveJ.m3u8'}, {'bitrate': 320000, 'content_type': 'video/mp4', 'url': 'https://video.twimg.com/amplify_video/789901945473425408/vid/320x180/PDCjclT1MccstLBr.mp4'}, {'content_type': 'application/dash+xml', 'url': 'https://video.twimg.com/amplify_video/789901945473425408/pl/Pb92uNpIMli0XveJ.mpd'}, {'bitrate': 2176000, 'content_type': 'video/mp4', 'url': 'https://video.twimg.com/amplify_video/789901945473425408/vid/1280x720/bBOtPjvg9aRgPGGY.mp4'}]}}]}, 'favorited': False, 'retweeted': False, 'possibly_sensitive': False, 'filter_level': 'low', 'lang': 'en'}, 'is_quote_status': True, 'extended_tweet': {'full_text': \"@realDonaldTrump Interesting watch - let's hope his models hold true! #MAGA #CleanHouse #DrainTheSwamp #WomenWhoVoteTrump https://t.co/Gk1cYvpkKQ\", 'display_text_range': [0, 121], 'entities': {'hashtags': [{'text': 'MAGA', 'indices': [70, 75]}, {'text': 'CleanHouse', 'indices': [76, 87]}, {'text': 'DrainTheSwamp', 'indices': [88, 102]}, {'text': 'WomenWhoVoteTrump', 'indices': [103, 121]}], 'urls': [{'url': 'https://t.co/Gk1cYvpkKQ', 'expanded_url': 'https://twitter.com/FoxNews/status/789940903498481664', 'display_url': 'twitter.com/FoxNews/status…', 'indices': [122, 145]}], 'user_mentions': [{'screen_name': 'realDonaldTrump', 'name': 'Donald J. Trump', 'id': 25073877, 'id_str': '25073877', 'indices': [0, 16]}], 'symbols': []}}, 'retweet_count': 0, 'favorite_count': 0, 'entities': {'hashtags': [{'text': 'MAGA', 'indices': [70, 75]}, {'text': 'CleanHouse', 'indices': [76, 87]}, {'text': 'DrainTheSwamp', 'indices': [88, 102]}], 'urls': [{'url': 'https://t.co/CLYke1JUoD', 'expanded_url': 'https://twitter.com/i/web/status/790040055192645632', 'display_url': 'twitter.com/i/web/status/7…', 'indices': [104, 127]}], 'user_mentions': [{'screen_name': 'realDonaldTrump', 'name': 'Donald J. Trump', 'id': 25073877, 'id_str': '25073877', 'indices': [0, 16]}], 'symbols': []}, 'favorited': False, 'retweeted': False, 'possibly_sensitive': False, 'filter_level': 'low', 'lang': 'en', 'timestamp_ms': '1477195202049'}\n"
     ]
    }
   ],
   "source": [
    "print(check[0])"
   ]
  },
  {
   "cell_type": "code",
   "execution_count": 19,
   "metadata": {},
   "outputs": [],
   "source": [
    "with open(os.path.join(os.getcwd(), \"10_23_2_rejoined.json\"), 'w') as data:\n",
    "    json.dump(temp_d[:length], data)"
   ]
  },
  {
   "cell_type": "code",
   "execution_count": 3,
   "metadata": {
    "collapsed": true
   },
   "outputs": [
    {
     "ename": "NameError",
     "evalue": "name 'random' is not defined",
     "output_type": "error",
     "traceback": [
      "\u001b[0;31m---------------------------------------------------------------------------\u001b[0m",
      "\u001b[0;31mNameError\u001b[0m                                 Traceback (most recent call last)",
      "\u001b[0;32m<timed eval>\u001b[0m in \u001b[0;36m<module>\u001b[0;34m\u001b[0m\n",
      "\u001b[0;32m<ipython-input-2-2d9024a091fa>\u001b[0m in \u001b[0;36mrejoin\u001b[0;34m(file1, file2)\u001b[0m\n\u001b[1;32m      6\u001b[0m \u001b[0;34m\u001b[0m\u001b[0m\n\u001b[1;32m      7\u001b[0m     \u001b[0mtemp_d\u001b[0m \u001b[0;34m=\u001b[0m \u001b[0mjson\u001b[0m\u001b[0;34m.\u001b[0m\u001b[0mloads\u001b[0m\u001b[0;34m(\u001b[0m\u001b[0mstr1\u001b[0m \u001b[0;34m+\u001b[0m \u001b[0mstr2\u001b[0m\u001b[0;34m)\u001b[0m\u001b[0;34m\u001b[0m\u001b[0;34m\u001b[0m\u001b[0m\n\u001b[0;32m----> 8\u001b[0;31m     \u001b[0mtemp_d_sampled\u001b[0m \u001b[0;34m=\u001b[0m \u001b[0mrandom\u001b[0m\u001b[0;34m.\u001b[0m\u001b[0msample\u001b[0m\u001b[0;34m(\u001b[0m\u001b[0mtemp_d\u001b[0m\u001b[0;34m,\u001b[0m \u001b[0;36m30000\u001b[0m\u001b[0;34m)\u001b[0m\u001b[0;34m\u001b[0m\u001b[0;34m\u001b[0m\u001b[0m\n\u001b[0m\u001b[1;32m      9\u001b[0m \u001b[0;34m\u001b[0m\u001b[0m\n\u001b[1;32m     10\u001b[0m     \u001b[0mnewfile1\u001b[0m \u001b[0;34m=\u001b[0m \u001b[0;34m\"rejoined_\"\u001b[0m \u001b[0;34m+\u001b[0m \u001b[0mfile1\u001b[0m \u001b[0;34m+\u001b[0m \u001b[0;34m\".json\"\u001b[0m\u001b[0;34m\u001b[0m\u001b[0;34m\u001b[0m\u001b[0m\n",
      "\u001b[0;31mNameError\u001b[0m: name 'random' is not defined"
     ]
    }
   ],
   "source": [
    "%%time\n",
    "rejoin(\"10_31_1\", \"10_31_2\")"
   ]
  },
  {
   "cell_type": "code",
   "execution_count": null,
   "metadata": {},
   "outputs": [],
   "source": []
  }
 ],
 "metadata": {
  "kernelspec": {
   "display_name": "Python 3",
   "language": "python",
   "name": "python3"
  },
  "language_info": {
   "codemirror_mode": {
    "name": "ipython",
    "version": 3
   },
   "file_extension": ".py",
   "mimetype": "text/x-python",
   "name": "python",
   "nbconvert_exporter": "python",
   "pygments_lexer": "ipython3",
   "version": "3.8.0"
  }
 },
 "nbformat": 4,
 "nbformat_minor": 2
}
