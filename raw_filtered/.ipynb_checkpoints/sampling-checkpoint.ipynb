{
 "cells": [
  {
   "cell_type": "code",
   "execution_count": 9,
   "metadata": {},
   "outputs": [],
   "source": [
    "import os\n",
    "import json"
   ]
  },
  {
   "cell_type": "code",
   "execution_count": 3,
   "metadata": {},
   "outputs": [
    {
     "data": {
      "text/plain": [
       "'/Volumes/JEN_SCHOOL/Thesis/Data/raw_filtered'"
      ]
     },
     "execution_count": 3,
     "metadata": {},
     "output_type": "execute_result"
    }
   ],
   "source": [
    "os.getcwd()"
   ]
  },
  {
   "cell_type": "code",
   "execution_count": 7,
   "metadata": {},
   "outputs": [
    {
     "name": "stdout",
     "output_type": "stream",
     "text": [
      "10_22_1.json\n",
      "10_24_2.json\n",
      "10_26_1r.json\n",
      "10_26_2r.json\n",
      "10_28_1r.json\n",
      "10_27_1.json\n",
      "10_27_2.json\n",
      "10_28_2r.json\n",
      "10_29_1r.json\n",
      "10_29_2r.json\n",
      "10_23_2r.json\n",
      "10_23_1r.json\n",
      "10_30_1.json\n",
      "10_30_2.json\n",
      "10_31_1.json\n",
      "10_31_2.json\n",
      "11_01_1.json\n",
      "11_01_2.json\n",
      "11_04_1.json\n",
      "11_04_2.json\n",
      "11_05_1.json\n",
      "11_05_2.json\n"
     ]
    }
   ],
   "source": [
    "for dirs, subdir, files in os.walk (os.getcwd()):\n",
    "    for f in files:\n",
    "        if f[0] != \".\" and f!= \"sampling.ipynb\" and f!= \"hashtag_analysis.ipynb\" and f!= \"cleaning.ipynb\" and f!= \"sampling-checkpoint.ipynb\" and f != \"hashtag_analysis-checkpoint.ipynb\":\n",
    "            if os.path.getsize(os.path.join(os.getcwd(), f))/1000000000 > 1:\n",
    "                print(f)\n",
    "                with open(f) as datafile:\n",
    "                    tweets_sampled = random.sample(f, 15000)\n",
    "                    \n",
    "                \n",
    "                "
   ]
  },
  {
   "cell_type": "code",
   "execution_count": 10,
   "metadata": {},
   "outputs": [],
   "source": [
    "with open(\"10_20.json\") as datafile:\n",
    "    tweets = json.load(datafile)"
   ]
  },
  {
   "cell_type": "code",
   "execution_count": 12,
   "metadata": {},
   "outputs": [
    {
     "data": {
      "text/plain": [
       "147194"
      ]
     },
     "execution_count": 12,
     "metadata": {},
     "output_type": "execute_result"
    }
   ],
   "source": [
    "len(tweets)"
   ]
  },
  {
   "cell_type": "code",
   "execution_count": 13,
   "metadata": {},
   "outputs": [
    {
     "name": "stdout",
     "output_type": "stream",
     "text": [
      "CPU times: user 1.69 ms, sys: 3.6 ms, total: 5.28 ms\n",
      "Wall time: 6.73 ms\n"
     ]
    }
   ],
   "source": [
    "%%time\n",
    "with open(\"10_21.json\") as datafile:\n",
    "    tweets2 = json.load(datafile)"
   ]
  },
  {
   "cell_type": "code",
   "execution_count": 19,
   "metadata": {},
   "outputs": [
    {
     "data": {
      "text/plain": [
       "4"
      ]
     },
     "execution_count": 19,
     "metadata": {},
     "output_type": "execute_result"
    }
   ],
   "source": [
    "len(tweets2)"
   ]
  },
  {
   "cell_type": "code",
   "execution_count": 20,
   "metadata": {},
   "outputs": [
    {
     "name": "stdout",
     "output_type": "stream",
     "text": [
      "CPU times: user 21.5 s, sys: 52.2 s, total: 1min 13s\n",
      "Wall time: 2min 23s\n"
     ]
    }
   ],
   "source": [
    "%%time\n",
    "with open(\"10_22_2.json\") as datafile:\n",
    "    tweets4 = json.load(datafile)"
   ]
  },
  {
   "cell_type": "code",
   "execution_count": 21,
   "metadata": {},
   "outputs": [
    {
     "data": {
      "text/plain": [
       "73000"
      ]
     },
     "execution_count": 21,
     "metadata": {},
     "output_type": "execute_result"
    }
   ],
   "source": [
    "len(tweets4)"
   ]
  },
  {
   "cell_type": "code",
   "execution_count": 14,
   "metadata": {},
   "outputs": [
    {
     "name": "stdout",
     "output_type": "stream",
     "text": [
      "CPU times: user 34.1 s, sys: 55.3 s, total: 1min 29s\n",
      "Wall time: 2min 20s\n"
     ]
    }
   ],
   "source": [
    "%%time\n",
    "with open(\"10_24_1.json\") as datafile:\n",
    "    tweets3 = json.load(datafile)"
   ]
  },
  {
   "cell_type": "code",
   "execution_count": 23,
   "metadata": {},
   "outputs": [
    {
     "data": {
      "text/plain": [
       "141555"
      ]
     },
     "execution_count": 23,
     "metadata": {},
     "output_type": "execute_result"
    }
   ],
   "source": [
    "len(tweets3)"
   ]
  },
  {
   "cell_type": "code",
   "execution_count": 16,
   "metadata": {},
   "outputs": [],
   "source": [
    "import random"
   ]
  },
  {
   "cell_type": "code",
   "execution_count": 17,
   "metadata": {},
   "outputs": [],
   "source": [
    "tweets24sampled = random.sample(tweets3, 15000)"
   ]
  },
  {
   "cell_type": "code",
   "execution_count": null,
   "metadata": {},
   "outputs": [],
   "source": []
  }
 ],
 "metadata": {
  "kernelspec": {
   "display_name": "Python 3",
   "language": "python",
   "name": "python3"
  },
  "language_info": {
   "codemirror_mode": {
    "name": "ipython",
    "version": 3
   },
   "file_extension": ".py",
   "mimetype": "text/x-python",
   "name": "python",
   "nbconvert_exporter": "python",
   "pygments_lexer": "ipython3",
   "version": "3.8.0"
  }
 },
 "nbformat": 4,
 "nbformat_minor": 2
}
